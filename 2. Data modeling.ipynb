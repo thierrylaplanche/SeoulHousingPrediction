{
 "cells": [
  {
   "cell_type": "markdown",
   "metadata": {},
   "source": [
    "# Predicting Seoul housing deposit"
   ]
  },
  {
   "cell_type": "markdown",
   "metadata": {},
   "source": [
    "## 2. Data modeling"
   ]
  },
  {
   "cell_type": "code",
   "execution_count": 1,
   "metadata": {},
   "outputs": [],
   "source": [
    "# Import libraries\n",
    "import pandas as pd # for data analsysis\n",
    "import numpy as np # to handle data in a vectorized manner\n",
    "import seaborn as sns # for visualization\n",
    "from sklearn.model_selection import RandomizedSearchCV # for hyperparameters tuning\n",
    "from sklearn.model_selection import cross_val_score # for cross-validation evaluation\n",
    "from sklearn.metrics import mean_squared_error # to calculate the RMSE\n",
    "from joblib import dump # to save a model to disk"
   ]
  },
  {
   "cell_type": "markdown",
   "metadata": {},
   "source": [
    "Read the dataframe shaped in the previous step"
   ]
  },
  {
   "cell_type": "code",
   "execution_count": 2,
   "metadata": {},
   "outputs": [],
   "source": [
    "# Save the data frame to a file\n",
    "df_transactions_dummy = pd.read_pickle('df_transactions_dummy.pkl')"
   ]
  },
  {
   "cell_type": "code",
   "execution_count": 3,
   "metadata": {},
   "outputs": [
    {
     "data": {
      "text/html": [
       "<div>\n",
       "<style scoped>\n",
       "    .dataframe tbody tr th:only-of-type {\n",
       "        vertical-align: middle;\n",
       "    }\n",
       "\n",
       "    .dataframe tbody tr th {\n",
       "        vertical-align: top;\n",
       "    }\n",
       "\n",
       "    .dataframe thead th {\n",
       "        text-align: right;\n",
       "    }\n",
       "</style>\n",
       "<table border=\"1\" class=\"dataframe\">\n",
       "  <thead>\n",
       "    <tr style=\"text-align: right;\">\n",
       "      <th></th>\n",
       "      <th>Floor</th>\n",
       "      <th>Floor area</th>\n",
       "      <th>Key money</th>\n",
       "      <th>Construction year</th>\n",
       "      <th>Dobong</th>\n",
       "      <th>Dongdaemun</th>\n",
       "      <th>Dongjak</th>\n",
       "      <th>Eunpyeong</th>\n",
       "      <th>Gangbuk</th>\n",
       "      <th>Gangdong</th>\n",
       "      <th>...</th>\n",
       "      <th>Mapo</th>\n",
       "      <th>Nowon</th>\n",
       "      <th>Seocho</th>\n",
       "      <th>Seodaemun</th>\n",
       "      <th>Seongbuk</th>\n",
       "      <th>Seongdong</th>\n",
       "      <th>Songpa</th>\n",
       "      <th>Yangcheon</th>\n",
       "      <th>Yeongdeungpo</th>\n",
       "      <th>Yongsan</th>\n",
       "    </tr>\n",
       "  </thead>\n",
       "  <tbody>\n",
       "    <tr>\n",
       "      <th>0</th>\n",
       "      <td>1</td>\n",
       "      <td>129</td>\n",
       "      <td>38000</td>\n",
       "      <td>1989</td>\n",
       "      <td>0</td>\n",
       "      <td>0</td>\n",
       "      <td>0</td>\n",
       "      <td>0</td>\n",
       "      <td>0</td>\n",
       "      <td>0</td>\n",
       "      <td>...</td>\n",
       "      <td>0</td>\n",
       "      <td>0</td>\n",
       "      <td>0</td>\n",
       "      <td>0</td>\n",
       "      <td>0</td>\n",
       "      <td>0</td>\n",
       "      <td>0</td>\n",
       "      <td>0</td>\n",
       "      <td>0</td>\n",
       "      <td>0</td>\n",
       "    </tr>\n",
       "    <tr>\n",
       "      <th>1</th>\n",
       "      <td>2</td>\n",
       "      <td>73</td>\n",
       "      <td>40000</td>\n",
       "      <td>2001</td>\n",
       "      <td>0</td>\n",
       "      <td>0</td>\n",
       "      <td>0</td>\n",
       "      <td>0</td>\n",
       "      <td>0</td>\n",
       "      <td>0</td>\n",
       "      <td>...</td>\n",
       "      <td>0</td>\n",
       "      <td>0</td>\n",
       "      <td>0</td>\n",
       "      <td>0</td>\n",
       "      <td>0</td>\n",
       "      <td>0</td>\n",
       "      <td>0</td>\n",
       "      <td>0</td>\n",
       "      <td>0</td>\n",
       "      <td>0</td>\n",
       "    </tr>\n",
       "    <tr>\n",
       "      <th>2</th>\n",
       "      <td>2</td>\n",
       "      <td>141</td>\n",
       "      <td>55000</td>\n",
       "      <td>1988</td>\n",
       "      <td>0</td>\n",
       "      <td>0</td>\n",
       "      <td>0</td>\n",
       "      <td>0</td>\n",
       "      <td>0</td>\n",
       "      <td>0</td>\n",
       "      <td>...</td>\n",
       "      <td>0</td>\n",
       "      <td>0</td>\n",
       "      <td>0</td>\n",
       "      <td>0</td>\n",
       "      <td>0</td>\n",
       "      <td>0</td>\n",
       "      <td>0</td>\n",
       "      <td>0</td>\n",
       "      <td>0</td>\n",
       "      <td>0</td>\n",
       "    </tr>\n",
       "    <tr>\n",
       "      <th>3</th>\n",
       "      <td>1</td>\n",
       "      <td>75</td>\n",
       "      <td>29000</td>\n",
       "      <td>2002</td>\n",
       "      <td>0</td>\n",
       "      <td>0</td>\n",
       "      <td>0</td>\n",
       "      <td>0</td>\n",
       "      <td>0</td>\n",
       "      <td>0</td>\n",
       "      <td>...</td>\n",
       "      <td>0</td>\n",
       "      <td>0</td>\n",
       "      <td>0</td>\n",
       "      <td>0</td>\n",
       "      <td>0</td>\n",
       "      <td>0</td>\n",
       "      <td>0</td>\n",
       "      <td>0</td>\n",
       "      <td>0</td>\n",
       "      <td>0</td>\n",
       "    </tr>\n",
       "    <tr>\n",
       "      <th>4</th>\n",
       "      <td>3</td>\n",
       "      <td>83</td>\n",
       "      <td>40000</td>\n",
       "      <td>1988</td>\n",
       "      <td>0</td>\n",
       "      <td>0</td>\n",
       "      <td>0</td>\n",
       "      <td>0</td>\n",
       "      <td>0</td>\n",
       "      <td>0</td>\n",
       "      <td>...</td>\n",
       "      <td>0</td>\n",
       "      <td>0</td>\n",
       "      <td>0</td>\n",
       "      <td>0</td>\n",
       "      <td>0</td>\n",
       "      <td>0</td>\n",
       "      <td>0</td>\n",
       "      <td>0</td>\n",
       "      <td>0</td>\n",
       "      <td>0</td>\n",
       "    </tr>\n",
       "    <tr>\n",
       "      <th>...</th>\n",
       "      <td>...</td>\n",
       "      <td>...</td>\n",
       "      <td>...</td>\n",
       "      <td>...</td>\n",
       "      <td>...</td>\n",
       "      <td>...</td>\n",
       "      <td>...</td>\n",
       "      <td>...</td>\n",
       "      <td>...</td>\n",
       "      <td>...</td>\n",
       "      <td>...</td>\n",
       "      <td>...</td>\n",
       "      <td>...</td>\n",
       "      <td>...</td>\n",
       "      <td>...</td>\n",
       "      <td>...</td>\n",
       "      <td>...</td>\n",
       "      <td>...</td>\n",
       "      <td>...</td>\n",
       "      <td>...</td>\n",
       "      <td>...</td>\n",
       "    </tr>\n",
       "    <tr>\n",
       "      <th>768135</th>\n",
       "      <td>5</td>\n",
       "      <td>39</td>\n",
       "      <td>17000</td>\n",
       "      <td>2017</td>\n",
       "      <td>0</td>\n",
       "      <td>0</td>\n",
       "      <td>0</td>\n",
       "      <td>0</td>\n",
       "      <td>0</td>\n",
       "      <td>0</td>\n",
       "      <td>...</td>\n",
       "      <td>0</td>\n",
       "      <td>0</td>\n",
       "      <td>0</td>\n",
       "      <td>0</td>\n",
       "      <td>0</td>\n",
       "      <td>0</td>\n",
       "      <td>0</td>\n",
       "      <td>0</td>\n",
       "      <td>1</td>\n",
       "      <td>0</td>\n",
       "    </tr>\n",
       "    <tr>\n",
       "      <th>768136</th>\n",
       "      <td>7</td>\n",
       "      <td>19</td>\n",
       "      <td>14000</td>\n",
       "      <td>2017</td>\n",
       "      <td>0</td>\n",
       "      <td>0</td>\n",
       "      <td>0</td>\n",
       "      <td>0</td>\n",
       "      <td>0</td>\n",
       "      <td>0</td>\n",
       "      <td>...</td>\n",
       "      <td>0</td>\n",
       "      <td>0</td>\n",
       "      <td>0</td>\n",
       "      <td>0</td>\n",
       "      <td>0</td>\n",
       "      <td>0</td>\n",
       "      <td>0</td>\n",
       "      <td>0</td>\n",
       "      <td>0</td>\n",
       "      <td>0</td>\n",
       "    </tr>\n",
       "    <tr>\n",
       "      <th>768137</th>\n",
       "      <td>13</td>\n",
       "      <td>23</td>\n",
       "      <td>12600</td>\n",
       "      <td>2016</td>\n",
       "      <td>0</td>\n",
       "      <td>0</td>\n",
       "      <td>0</td>\n",
       "      <td>0</td>\n",
       "      <td>0</td>\n",
       "      <td>0</td>\n",
       "      <td>...</td>\n",
       "      <td>0</td>\n",
       "      <td>0</td>\n",
       "      <td>0</td>\n",
       "      <td>0</td>\n",
       "      <td>0</td>\n",
       "      <td>0</td>\n",
       "      <td>0</td>\n",
       "      <td>0</td>\n",
       "      <td>0</td>\n",
       "      <td>0</td>\n",
       "    </tr>\n",
       "    <tr>\n",
       "      <th>768138</th>\n",
       "      <td>4</td>\n",
       "      <td>21</td>\n",
       "      <td>13960</td>\n",
       "      <td>2016</td>\n",
       "      <td>0</td>\n",
       "      <td>0</td>\n",
       "      <td>0</td>\n",
       "      <td>0</td>\n",
       "      <td>0</td>\n",
       "      <td>0</td>\n",
       "      <td>...</td>\n",
       "      <td>0</td>\n",
       "      <td>0</td>\n",
       "      <td>0</td>\n",
       "      <td>0</td>\n",
       "      <td>0</td>\n",
       "      <td>0</td>\n",
       "      <td>0</td>\n",
       "      <td>0</td>\n",
       "      <td>0</td>\n",
       "      <td>0</td>\n",
       "    </tr>\n",
       "    <tr>\n",
       "      <th>768139</th>\n",
       "      <td>7</td>\n",
       "      <td>14</td>\n",
       "      <td>13800</td>\n",
       "      <td>2018</td>\n",
       "      <td>0</td>\n",
       "      <td>0</td>\n",
       "      <td>0</td>\n",
       "      <td>0</td>\n",
       "      <td>0</td>\n",
       "      <td>0</td>\n",
       "      <td>...</td>\n",
       "      <td>0</td>\n",
       "      <td>0</td>\n",
       "      <td>0</td>\n",
       "      <td>0</td>\n",
       "      <td>0</td>\n",
       "      <td>0</td>\n",
       "      <td>0</td>\n",
       "      <td>0</td>\n",
       "      <td>0</td>\n",
       "      <td>0</td>\n",
       "    </tr>\n",
       "  </tbody>\n",
       "</table>\n",
       "<p>768140 rows × 29 columns</p>\n",
       "</div>"
      ],
      "text/plain": [
       "        Floor  Floor area  Key money  Construction year  Dobong  Dongdaemun  \\\n",
       "0           1         129      38000               1989       0           0   \n",
       "1           2          73      40000               2001       0           0   \n",
       "2           2         141      55000               1988       0           0   \n",
       "3           1          75      29000               2002       0           0   \n",
       "4           3          83      40000               1988       0           0   \n",
       "...       ...         ...        ...                ...     ...         ...   \n",
       "768135      5          39      17000               2017       0           0   \n",
       "768136      7          19      14000               2017       0           0   \n",
       "768137     13          23      12600               2016       0           0   \n",
       "768138      4          21      13960               2016       0           0   \n",
       "768139      7          14      13800               2018       0           0   \n",
       "\n",
       "        Dongjak  Eunpyeong  Gangbuk  Gangdong  ...  Mapo  Nowon  Seocho  \\\n",
       "0             0          0        0         0  ...     0      0       0   \n",
       "1             0          0        0         0  ...     0      0       0   \n",
       "2             0          0        0         0  ...     0      0       0   \n",
       "3             0          0        0         0  ...     0      0       0   \n",
       "4             0          0        0         0  ...     0      0       0   \n",
       "...         ...        ...      ...       ...  ...   ...    ...     ...   \n",
       "768135        0          0        0         0  ...     0      0       0   \n",
       "768136        0          0        0         0  ...     0      0       0   \n",
       "768137        0          0        0         0  ...     0      0       0   \n",
       "768138        0          0        0         0  ...     0      0       0   \n",
       "768139        0          0        0         0  ...     0      0       0   \n",
       "\n",
       "        Seodaemun  Seongbuk  Seongdong  Songpa  Yangcheon  Yeongdeungpo  \\\n",
       "0               0         0          0       0          0             0   \n",
       "1               0         0          0       0          0             0   \n",
       "2               0         0          0       0          0             0   \n",
       "3               0         0          0       0          0             0   \n",
       "4               0         0          0       0          0             0   \n",
       "...           ...       ...        ...     ...        ...           ...   \n",
       "768135          0         0          0       0          0             1   \n",
       "768136          0         0          0       0          0             0   \n",
       "768137          0         0          0       0          0             0   \n",
       "768138          0         0          0       0          0             0   \n",
       "768139          0         0          0       0          0             0   \n",
       "\n",
       "        Yongsan  \n",
       "0             0  \n",
       "1             0  \n",
       "2             0  \n",
       "3             0  \n",
       "4             0  \n",
       "...         ...  \n",
       "768135        0  \n",
       "768136        0  \n",
       "768137        0  \n",
       "768138        0  \n",
       "768139        0  \n",
       "\n",
       "[768140 rows x 29 columns]"
      ]
     },
     "execution_count": 3,
     "metadata": {},
     "output_type": "execute_result"
    }
   ],
   "source": [
    "df_transactions_dummy"
   ]
  },
  {
   "cell_type": "markdown",
   "metadata": {},
   "source": [
    "### Prepare the input and target variables"
   ]
  },
  {
   "cell_type": "markdown",
   "metadata": {},
   "source": [
    "Extract the target variable y"
   ]
  },
  {
   "cell_type": "code",
   "execution_count": 4,
   "metadata": {},
   "outputs": [],
   "source": [
    "y = df_transactions_dummy['Key money']"
   ]
  },
  {
   "cell_type": "code",
   "execution_count": 5,
   "metadata": {},
   "outputs": [
    {
     "data": {
      "text/plain": [
       "0         38000\n",
       "1         40000\n",
       "2         55000\n",
       "3         29000\n",
       "4         40000\n",
       "          ...  \n",
       "768135    17000\n",
       "768136    14000\n",
       "768137    12600\n",
       "768138    13960\n",
       "768139    13800\n",
       "Name: Key money, Length: 768140, dtype: int32"
      ]
     },
     "execution_count": 5,
     "metadata": {},
     "output_type": "execute_result"
    }
   ],
   "source": [
    "y"
   ]
  },
  {
   "cell_type": "markdown",
   "metadata": {},
   "source": [
    "Prepare the input features X"
   ]
  },
  {
   "cell_type": "code",
   "execution_count": 6,
   "metadata": {},
   "outputs": [],
   "source": [
    "X = df_transactions_dummy.drop(columns={'Key money'})"
   ]
  },
  {
   "cell_type": "code",
   "execution_count": 7,
   "metadata": {},
   "outputs": [
    {
     "data": {
      "text/html": [
       "<div>\n",
       "<style scoped>\n",
       "    .dataframe tbody tr th:only-of-type {\n",
       "        vertical-align: middle;\n",
       "    }\n",
       "\n",
       "    .dataframe tbody tr th {\n",
       "        vertical-align: top;\n",
       "    }\n",
       "\n",
       "    .dataframe thead th {\n",
       "        text-align: right;\n",
       "    }\n",
       "</style>\n",
       "<table border=\"1\" class=\"dataframe\">\n",
       "  <thead>\n",
       "    <tr style=\"text-align: right;\">\n",
       "      <th></th>\n",
       "      <th>Floor</th>\n",
       "      <th>Floor area</th>\n",
       "      <th>Construction year</th>\n",
       "      <th>Dobong</th>\n",
       "      <th>Dongdaemun</th>\n",
       "      <th>Dongjak</th>\n",
       "      <th>Eunpyeong</th>\n",
       "      <th>Gangbuk</th>\n",
       "      <th>Gangdong</th>\n",
       "      <th>Gangnam</th>\n",
       "      <th>...</th>\n",
       "      <th>Mapo</th>\n",
       "      <th>Nowon</th>\n",
       "      <th>Seocho</th>\n",
       "      <th>Seodaemun</th>\n",
       "      <th>Seongbuk</th>\n",
       "      <th>Seongdong</th>\n",
       "      <th>Songpa</th>\n",
       "      <th>Yangcheon</th>\n",
       "      <th>Yeongdeungpo</th>\n",
       "      <th>Yongsan</th>\n",
       "    </tr>\n",
       "  </thead>\n",
       "  <tbody>\n",
       "    <tr>\n",
       "      <th>0</th>\n",
       "      <td>1</td>\n",
       "      <td>129</td>\n",
       "      <td>1989</td>\n",
       "      <td>0</td>\n",
       "      <td>0</td>\n",
       "      <td>0</td>\n",
       "      <td>0</td>\n",
       "      <td>0</td>\n",
       "      <td>0</td>\n",
       "      <td>0</td>\n",
       "      <td>...</td>\n",
       "      <td>0</td>\n",
       "      <td>0</td>\n",
       "      <td>0</td>\n",
       "      <td>0</td>\n",
       "      <td>0</td>\n",
       "      <td>0</td>\n",
       "      <td>0</td>\n",
       "      <td>0</td>\n",
       "      <td>0</td>\n",
       "      <td>0</td>\n",
       "    </tr>\n",
       "    <tr>\n",
       "      <th>1</th>\n",
       "      <td>2</td>\n",
       "      <td>73</td>\n",
       "      <td>2001</td>\n",
       "      <td>0</td>\n",
       "      <td>0</td>\n",
       "      <td>0</td>\n",
       "      <td>0</td>\n",
       "      <td>0</td>\n",
       "      <td>0</td>\n",
       "      <td>0</td>\n",
       "      <td>...</td>\n",
       "      <td>0</td>\n",
       "      <td>0</td>\n",
       "      <td>0</td>\n",
       "      <td>0</td>\n",
       "      <td>0</td>\n",
       "      <td>0</td>\n",
       "      <td>0</td>\n",
       "      <td>0</td>\n",
       "      <td>0</td>\n",
       "      <td>0</td>\n",
       "    </tr>\n",
       "    <tr>\n",
       "      <th>2</th>\n",
       "      <td>2</td>\n",
       "      <td>141</td>\n",
       "      <td>1988</td>\n",
       "      <td>0</td>\n",
       "      <td>0</td>\n",
       "      <td>0</td>\n",
       "      <td>0</td>\n",
       "      <td>0</td>\n",
       "      <td>0</td>\n",
       "      <td>0</td>\n",
       "      <td>...</td>\n",
       "      <td>0</td>\n",
       "      <td>0</td>\n",
       "      <td>0</td>\n",
       "      <td>0</td>\n",
       "      <td>0</td>\n",
       "      <td>0</td>\n",
       "      <td>0</td>\n",
       "      <td>0</td>\n",
       "      <td>0</td>\n",
       "      <td>0</td>\n",
       "    </tr>\n",
       "    <tr>\n",
       "      <th>3</th>\n",
       "      <td>1</td>\n",
       "      <td>75</td>\n",
       "      <td>2002</td>\n",
       "      <td>0</td>\n",
       "      <td>0</td>\n",
       "      <td>0</td>\n",
       "      <td>0</td>\n",
       "      <td>0</td>\n",
       "      <td>0</td>\n",
       "      <td>0</td>\n",
       "      <td>...</td>\n",
       "      <td>0</td>\n",
       "      <td>0</td>\n",
       "      <td>0</td>\n",
       "      <td>0</td>\n",
       "      <td>0</td>\n",
       "      <td>0</td>\n",
       "      <td>0</td>\n",
       "      <td>0</td>\n",
       "      <td>0</td>\n",
       "      <td>0</td>\n",
       "    </tr>\n",
       "    <tr>\n",
       "      <th>4</th>\n",
       "      <td>3</td>\n",
       "      <td>83</td>\n",
       "      <td>1988</td>\n",
       "      <td>0</td>\n",
       "      <td>0</td>\n",
       "      <td>0</td>\n",
       "      <td>0</td>\n",
       "      <td>0</td>\n",
       "      <td>0</td>\n",
       "      <td>0</td>\n",
       "      <td>...</td>\n",
       "      <td>0</td>\n",
       "      <td>0</td>\n",
       "      <td>0</td>\n",
       "      <td>0</td>\n",
       "      <td>0</td>\n",
       "      <td>0</td>\n",
       "      <td>0</td>\n",
       "      <td>0</td>\n",
       "      <td>0</td>\n",
       "      <td>0</td>\n",
       "    </tr>\n",
       "    <tr>\n",
       "      <th>...</th>\n",
       "      <td>...</td>\n",
       "      <td>...</td>\n",
       "      <td>...</td>\n",
       "      <td>...</td>\n",
       "      <td>...</td>\n",
       "      <td>...</td>\n",
       "      <td>...</td>\n",
       "      <td>...</td>\n",
       "      <td>...</td>\n",
       "      <td>...</td>\n",
       "      <td>...</td>\n",
       "      <td>...</td>\n",
       "      <td>...</td>\n",
       "      <td>...</td>\n",
       "      <td>...</td>\n",
       "      <td>...</td>\n",
       "      <td>...</td>\n",
       "      <td>...</td>\n",
       "      <td>...</td>\n",
       "      <td>...</td>\n",
       "      <td>...</td>\n",
       "    </tr>\n",
       "    <tr>\n",
       "      <th>768135</th>\n",
       "      <td>5</td>\n",
       "      <td>39</td>\n",
       "      <td>2017</td>\n",
       "      <td>0</td>\n",
       "      <td>0</td>\n",
       "      <td>0</td>\n",
       "      <td>0</td>\n",
       "      <td>0</td>\n",
       "      <td>0</td>\n",
       "      <td>0</td>\n",
       "      <td>...</td>\n",
       "      <td>0</td>\n",
       "      <td>0</td>\n",
       "      <td>0</td>\n",
       "      <td>0</td>\n",
       "      <td>0</td>\n",
       "      <td>0</td>\n",
       "      <td>0</td>\n",
       "      <td>0</td>\n",
       "      <td>1</td>\n",
       "      <td>0</td>\n",
       "    </tr>\n",
       "    <tr>\n",
       "      <th>768136</th>\n",
       "      <td>7</td>\n",
       "      <td>19</td>\n",
       "      <td>2017</td>\n",
       "      <td>0</td>\n",
       "      <td>0</td>\n",
       "      <td>0</td>\n",
       "      <td>0</td>\n",
       "      <td>0</td>\n",
       "      <td>0</td>\n",
       "      <td>0</td>\n",
       "      <td>...</td>\n",
       "      <td>0</td>\n",
       "      <td>0</td>\n",
       "      <td>0</td>\n",
       "      <td>0</td>\n",
       "      <td>0</td>\n",
       "      <td>0</td>\n",
       "      <td>0</td>\n",
       "      <td>0</td>\n",
       "      <td>0</td>\n",
       "      <td>0</td>\n",
       "    </tr>\n",
       "    <tr>\n",
       "      <th>768137</th>\n",
       "      <td>13</td>\n",
       "      <td>23</td>\n",
       "      <td>2016</td>\n",
       "      <td>0</td>\n",
       "      <td>0</td>\n",
       "      <td>0</td>\n",
       "      <td>0</td>\n",
       "      <td>0</td>\n",
       "      <td>0</td>\n",
       "      <td>0</td>\n",
       "      <td>...</td>\n",
       "      <td>0</td>\n",
       "      <td>0</td>\n",
       "      <td>0</td>\n",
       "      <td>0</td>\n",
       "      <td>0</td>\n",
       "      <td>0</td>\n",
       "      <td>0</td>\n",
       "      <td>0</td>\n",
       "      <td>0</td>\n",
       "      <td>0</td>\n",
       "    </tr>\n",
       "    <tr>\n",
       "      <th>768138</th>\n",
       "      <td>4</td>\n",
       "      <td>21</td>\n",
       "      <td>2016</td>\n",
       "      <td>0</td>\n",
       "      <td>0</td>\n",
       "      <td>0</td>\n",
       "      <td>0</td>\n",
       "      <td>0</td>\n",
       "      <td>0</td>\n",
       "      <td>0</td>\n",
       "      <td>...</td>\n",
       "      <td>0</td>\n",
       "      <td>0</td>\n",
       "      <td>0</td>\n",
       "      <td>0</td>\n",
       "      <td>0</td>\n",
       "      <td>0</td>\n",
       "      <td>0</td>\n",
       "      <td>0</td>\n",
       "      <td>0</td>\n",
       "      <td>0</td>\n",
       "    </tr>\n",
       "    <tr>\n",
       "      <th>768139</th>\n",
       "      <td>7</td>\n",
       "      <td>14</td>\n",
       "      <td>2018</td>\n",
       "      <td>0</td>\n",
       "      <td>0</td>\n",
       "      <td>0</td>\n",
       "      <td>0</td>\n",
       "      <td>0</td>\n",
       "      <td>0</td>\n",
       "      <td>0</td>\n",
       "      <td>...</td>\n",
       "      <td>0</td>\n",
       "      <td>0</td>\n",
       "      <td>0</td>\n",
       "      <td>0</td>\n",
       "      <td>0</td>\n",
       "      <td>0</td>\n",
       "      <td>0</td>\n",
       "      <td>0</td>\n",
       "      <td>0</td>\n",
       "      <td>0</td>\n",
       "    </tr>\n",
       "  </tbody>\n",
       "</table>\n",
       "<p>768140 rows × 28 columns</p>\n",
       "</div>"
      ],
      "text/plain": [
       "        Floor  Floor area  Construction year  Dobong  Dongdaemun  Dongjak  \\\n",
       "0           1         129               1989       0           0        0   \n",
       "1           2          73               2001       0           0        0   \n",
       "2           2         141               1988       0           0        0   \n",
       "3           1          75               2002       0           0        0   \n",
       "4           3          83               1988       0           0        0   \n",
       "...       ...         ...                ...     ...         ...      ...   \n",
       "768135      5          39               2017       0           0        0   \n",
       "768136      7          19               2017       0           0        0   \n",
       "768137     13          23               2016       0           0        0   \n",
       "768138      4          21               2016       0           0        0   \n",
       "768139      7          14               2018       0           0        0   \n",
       "\n",
       "        Eunpyeong  Gangbuk  Gangdong  Gangnam  ...  Mapo  Nowon  Seocho  \\\n",
       "0               0        0         0        0  ...     0      0       0   \n",
       "1               0        0         0        0  ...     0      0       0   \n",
       "2               0        0         0        0  ...     0      0       0   \n",
       "3               0        0         0        0  ...     0      0       0   \n",
       "4               0        0         0        0  ...     0      0       0   \n",
       "...           ...      ...       ...      ...  ...   ...    ...     ...   \n",
       "768135          0        0         0        0  ...     0      0       0   \n",
       "768136          0        0         0        0  ...     0      0       0   \n",
       "768137          0        0         0        0  ...     0      0       0   \n",
       "768138          0        0         0        0  ...     0      0       0   \n",
       "768139          0        0         0        0  ...     0      0       0   \n",
       "\n",
       "        Seodaemun  Seongbuk  Seongdong  Songpa  Yangcheon  Yeongdeungpo  \\\n",
       "0               0         0          0       0          0             0   \n",
       "1               0         0          0       0          0             0   \n",
       "2               0         0          0       0          0             0   \n",
       "3               0         0          0       0          0             0   \n",
       "4               0         0          0       0          0             0   \n",
       "...           ...       ...        ...     ...        ...           ...   \n",
       "768135          0         0          0       0          0             1   \n",
       "768136          0         0          0       0          0             0   \n",
       "768137          0         0          0       0          0             0   \n",
       "768138          0         0          0       0          0             0   \n",
       "768139          0         0          0       0          0             0   \n",
       "\n",
       "        Yongsan  \n",
       "0             0  \n",
       "1             0  \n",
       "2             0  \n",
       "3             0  \n",
       "4             0  \n",
       "...         ...  \n",
       "768135        0  \n",
       "768136        0  \n",
       "768137        0  \n",
       "768138        0  \n",
       "768139        0  \n",
       "\n",
       "[768140 rows x 28 columns]"
      ]
     },
     "execution_count": 7,
     "metadata": {},
     "output_type": "execute_result"
    }
   ],
   "source": [
    "X"
   ]
  },
  {
   "cell_type": "markdown",
   "metadata": {},
   "source": [
    "### Split training and test tests"
   ]
  },
  {
   "cell_type": "markdown",
   "metadata": {},
   "source": [
    "70 % of data will be used for training (and validation), 30 % for test"
   ]
  },
  {
   "cell_type": "code",
   "execution_count": 8,
   "metadata": {},
   "outputs": [],
   "source": [
    "from sklearn.model_selection import train_test_split\n",
    "X_train, X_test, y_train, y_test = train_test_split(X, y, test_size=0.3, random_state=2)"
   ]
  },
  {
   "cell_type": "markdown",
   "metadata": {},
   "source": [
    "### Scale features (for linear regression)"
   ]
  },
  {
   "cell_type": "markdown",
   "metadata": {},
   "source": [
    "Feature scaling :\n",
    "- Range from 0 to 1\n",
    "- 'Fit' on training data only\n",
    "- 'Transform' on training and test data"
   ]
  },
  {
   "cell_type": "code",
   "execution_count": 9,
   "metadata": {},
   "outputs": [],
   "source": [
    "from sklearn.preprocessing import MinMaxScaler\n",
    "\n",
    "# Scaler for X\n",
    "scaler_x = MinMaxScaler(feature_range=(0,1))\n",
    "X_train_scaled = scaler_x.fit_transform(X_train)\n",
    "X_test_scaled = scaler_x.transform(X_test)"
   ]
  },
  {
   "cell_type": "markdown",
   "metadata": {},
   "source": [
    "### 1. Linear regression"
   ]
  },
  {
   "cell_type": "code",
   "execution_count": 10,
   "metadata": {},
   "outputs": [
    {
     "name": "stderr",
     "output_type": "stream",
     "text": [
      "[Parallel(n_jobs=1)]: Using backend SequentialBackend with 1 concurrent workers.\n"
     ]
    },
    {
     "name": "stdout",
     "output_type": "stream",
     "text": [
      "[CV]  ................................................................\n",
      "[CV] ................................................. , total=   0.5s\n",
      "[CV]  ................................................................\n"
     ]
    },
    {
     "name": "stderr",
     "output_type": "stream",
     "text": [
      "[Parallel(n_jobs=1)]: Done   1 out of   1 | elapsed:    0.5s remaining:    0.0s\n"
     ]
    },
    {
     "name": "stdout",
     "output_type": "stream",
     "text": [
      "[CV] ................................................. , total=   0.5s\n",
      "[CV]  ................................................................\n",
      "[CV] ................................................. , total=   0.5s\n",
      "[CV]  ................................................................\n",
      "[CV] ................................................. , total=   0.5s\n",
      "[CV]  ................................................................\n",
      "[CV] ................................................. , total=   0.5s\n",
      "R^2 Validation: 0.6960959411273462\n"
     ]
    },
    {
     "name": "stderr",
     "output_type": "stream",
     "text": [
      "[Parallel(n_jobs=1)]: Done   5 out of   5 | elapsed:    2.5s finished\n"
     ]
    }
   ],
   "source": [
    "from sklearn.linear_model import LinearRegression\n",
    "\n",
    "lin_reg = LinearRegression()\n",
    "\n",
    "# Model evaluation by cross-validation\n",
    "lin_reg_score = cross_val_score(lin_reg, X_train_scaled, y_train, verbose = 2)\n",
    "\n",
    "# Average Coefficient of determination (R^2) on the validation set\n",
    "print(f'R^2 Validation: {lin_reg_score.mean()}')"
   ]
  },
  {
   "cell_type": "code",
   "execution_count": 11,
   "metadata": {},
   "outputs": [
    {
     "data": {
      "text/plain": [
       "LinearRegression(copy_X=True, fit_intercept=True, n_jobs=None, normalize=False)"
      ]
     },
     "execution_count": 11,
     "metadata": {},
     "output_type": "execute_result"
    }
   ],
   "source": [
    "# Fit the model to the training set\n",
    "lin_reg.fit(X_train_scaled, y_train)"
   ]
  },
  {
   "cell_type": "code",
   "execution_count": 71,
   "metadata": {},
   "outputs": [],
   "source": [
    "# Compute predictions from the test set\n",
    "y_pred = lin_reg.predict(X_test_scaled)"
   ]
  },
  {
   "cell_type": "code",
   "execution_count": 72,
   "metadata": {},
   "outputs": [
    {
     "name": "stdout",
     "output_type": "stream",
     "text": [
      "R^2 Test: 0.6963483762565993\n"
     ]
    }
   ],
   "source": [
    "# Coefficient of determination (R^2) on the test set\n",
    "print(f'R^2 Test: {lin_reg.score(X_test_scaled, y_test)}')"
   ]
  },
  {
   "cell_type": "code",
   "execution_count": 73,
   "metadata": {},
   "outputs": [
    {
     "name": "stdout",
     "output_type": "stream",
     "text": [
      "RMSE Test: 8743.554473218843\n"
     ]
    }
   ],
   "source": [
    "print(f'RMSE Test: {np.sqrt(mean_squared_error(y_test, y_pred))}')"
   ]
  },
  {
   "cell_type": "code",
   "execution_count": 14,
   "metadata": {},
   "outputs": [
    {
     "data": {
      "image/png": "[encoded data removed]",
      "text/plain": [
       "<Figure size 432x288 with 1 Axes>"
      ]
     },
     "metadata": {
      "needs_background": "light"
     },
     "output_type": "display_data"
    }
   ],
   "source": [
    "# Visualize the predictions (in blue) against the actual values (in red)\n",
    "ax1 = sns.distplot(y_test, hist=False, color='r', label='actual')\n",
    "sns_plot = sns.distplot(y_pred, hist=False, color='b',label='prediction', ax=ax1)\n",
    "\n",
    "# Save the figure to a file\n",
    "sns_plot.get_figure().savefig(\"lin_reg.png\")"
   ]
  },
  {
   "cell_type": "markdown",
   "metadata": {},
   "source": [
    "### 2. Polynomial regression"
   ]
  },
  {
   "cell_type": "code",
   "execution_count": 15,
   "metadata": {},
   "outputs": [],
   "source": [
    "from sklearn.preprocessing import PolynomialFeatures\n",
    "\n",
    "# Degree 2\n",
    "poly_features = PolynomialFeatures(degree = 2)\n",
    "\n",
    "# Returns a transformed version of X with new combinations of features\n",
    "X_train_scaled_poly = poly_features.fit_transform(X_train_scaled)\n",
    "X_test_scaled_poly = poly_features.fit_transform(X_test_scaled)"
   ]
  },
  {
   "cell_type": "code",
   "execution_count": 16,
   "metadata": {},
   "outputs": [
    {
     "name": "stderr",
     "output_type": "stream",
     "text": [
      "[Parallel(n_jobs=1)]: Using backend SequentialBackend with 1 concurrent workers.\n"
     ]
    },
    {
     "name": "stdout",
     "output_type": "stream",
     "text": [
      "[CV]  ................................................................\n",
      "[CV] ................................................. , total=  11.9s\n",
      "[CV]  ................................................................\n"
     ]
    },
    {
     "name": "stderr",
     "output_type": "stream",
     "text": [
      "[Parallel(n_jobs=1)]: Done   1 out of   1 | elapsed:   12.0s remaining:    0.0s\n"
     ]
    },
    {
     "name": "stdout",
     "output_type": "stream",
     "text": [
      "[CV] ................................................. , total=  11.7s\n",
      "[CV]  ................................................................\n",
      "[CV] ................................................. , total=  11.4s\n",
      "[CV]  ................................................................\n",
      "[CV] ................................................. , total=  11.5s\n",
      "[CV]  ................................................................\n",
      "[CV] ................................................. , total=  11.6s\n",
      "R^2 Validation: 0.7443655165578688\n"
     ]
    },
    {
     "name": "stderr",
     "output_type": "stream",
     "text": [
      "[Parallel(n_jobs=1)]: Done   5 out of   5 | elapsed:   58.7s finished\n"
     ]
    }
   ],
   "source": [
    "poly_reg = LinearRegression()\n",
    "\n",
    "# Model evaluation by cross-validation\n",
    "poly_reg_score = cross_val_score(poly_reg, X_train_scaled_poly, y_train, verbose = 2)\n",
    "\n",
    "# Average Coefficient of determination (R^2) on the validation set\n",
    "print(f'R^2 Validation: {poly_reg_score.mean()}')"
   ]
  },
  {
   "cell_type": "code",
   "execution_count": 17,
   "metadata": {},
   "outputs": [
    {
     "data": {
      "text/plain": [
       "LinearRegression(copy_X=True, fit_intercept=True, n_jobs=None, normalize=False)"
      ]
     },
     "execution_count": 17,
     "metadata": {},
     "output_type": "execute_result"
    }
   ],
   "source": [
    "# Fit the model to the training set\n",
    "poly_reg.fit(X_train_scaled_poly, y_train)"
   ]
  },
  {
   "cell_type": "code",
   "execution_count": 74,
   "metadata": {},
   "outputs": [],
   "source": [
    "# Compute predictions from the test set\n",
    "y_pred = poly_reg.predict(X_test_scaled_poly)"
   ]
  },
  {
   "cell_type": "code",
   "execution_count": 75,
   "metadata": {},
   "outputs": [
    {
     "name": "stdout",
     "output_type": "stream",
     "text": [
      "R^2 Test: 0.7432662495908348\n"
     ]
    }
   ],
   "source": [
    "# Coefficient of determination (R^2) on the test set\n",
    "print(f'R^2 Test: {poly_reg.score(X_test_scaled_poly, y_test)}')"
   ]
  },
  {
   "cell_type": "code",
   "execution_count": 76,
   "metadata": {},
   "outputs": [
    {
     "name": "stdout",
     "output_type": "stream",
     "text": [
      "RMSE Test: 8039.73434555678\n"
     ]
    }
   ],
   "source": [
    "print(f'RMSE Test: {np.sqrt(mean_squared_error(y_test, y_pred))}')"
   ]
  },
  {
   "cell_type": "code",
   "execution_count": 20,
   "metadata": {},
   "outputs": [
    {
     "data": {
      "image/png": "[encoded data removed]",
      "text/plain": [
       "<Figure size 432x288 with 1 Axes>"
      ]
     },
     "metadata": {
      "needs_background": "light"
     },
     "output_type": "display_data"
    }
   ],
   "source": [
    "# Visualize the predictions (in blue) against the actual values (in red)\n",
    "ax1 = sns.distplot(y_test, hist=False, color='r', label='actual')\n",
    "sns_plot = sns.distplot(y_pred, hist=False, color='b',label='prediction', ax=ax1)\n",
    "\n",
    "# Save the figure to a file\n",
    "sns_plot.get_figure().savefig(\"poly_reg.png\")"
   ]
  },
  {
   "cell_type": "markdown",
   "metadata": {},
   "source": [
    "### 3. Decision tree"
   ]
  },
  {
   "cell_type": "code",
   "execution_count": 21,
   "metadata": {},
   "outputs": [],
   "source": [
    "# Hyperparameter values to feed to the RandomizedSearchCV\n",
    "param_grid = {'max_features': ['auto', 'sqrt'], # Number of features to consider at every split\n",
    "               'max_depth': np.arange(5, 41, 5), # Maximum number of levels in tree\n",
    "               'min_samples_split': [5, 10, 20, 40], # Minimum number of samples required to split a node\n",
    "               'min_samples_leaf': [2, 6, 12, 24], # Minimum number of samples required at each leaf node\n",
    "               }"
   ]
  },
  {
   "cell_type": "code",
   "execution_count": 22,
   "metadata": {},
   "outputs": [
    {
     "name": "stdout",
     "output_type": "stream",
     "text": [
      "Fitting 5 folds for each of 100 candidates, totalling 500 fits\n"
     ]
    },
    {
     "name": "stderr",
     "output_type": "stream",
     "text": [
      "[Parallel(n_jobs=-1)]: Using backend LokyBackend with 8 concurrent workers.\n",
      "[Parallel(n_jobs=-1)]: Done  25 tasks      | elapsed:    7.5s\n",
      "[Parallel(n_jobs=-1)]: Done 146 tasks      | elapsed:  1.1min\n",
      "[Parallel(n_jobs=-1)]: Done 349 tasks      | elapsed:  2.5min\n",
      "[Parallel(n_jobs=-1)]: Done 500 out of 500 | elapsed:  3.5min finished\n"
     ]
    },
    {
     "data": {
      "text/plain": [
       "RandomizedSearchCV(cv=None, error_score=nan,\n",
       "                   estimator=DecisionTreeRegressor(ccp_alpha=0.0,\n",
       "                                                   criterion='mse',\n",
       "                                                   max_depth=None,\n",
       "                                                   max_features=None,\n",
       "                                                   max_leaf_nodes=None,\n",
       "                                                   min_impurity_decrease=0.0,\n",
       "                                                   min_impurity_split=None,\n",
       "                                                   min_samples_leaf=1,\n",
       "                                                   min_samples_split=2,\n",
       "                                                   min_weight_fraction_leaf=0.0,\n",
       "                                                   presort='deprecated',\n",
       "                                                   random_state=None,\n",
       "                                                   splitter='best'),\n",
       "                   iid='deprecated', n_iter=100, n_jobs=-1,\n",
       "                   param_distributions={'max_depth': array([ 5, 10, 15, 20, 25, 30, 35, 40]),\n",
       "                                        'max_features': ['auto', 'sqrt'],\n",
       "                                        'min_samples_leaf': [2, 6, 12, 24],\n",
       "                                        'min_samples_split': [5, 10, 20, 40]},\n",
       "                   pre_dispatch='2*n_jobs', random_state=None, refit=True,\n",
       "                   return_train_score=False, scoring=None, verbose=2)"
      ]
     },
     "execution_count": 22,
     "metadata": {},
     "output_type": "execute_result"
    }
   ],
   "source": [
    "from sklearn.tree import DecisionTreeRegressor\n",
    "\n",
    "# Instantiate a RandomizedSearchCV on a DecisionTreeRegressor model with 100 iterations\n",
    "tree_reg = RandomizedSearchCV(estimator = DecisionTreeRegressor(), param_distributions = param_grid, n_iter = 100, verbose = 2, n_jobs = -1)\n",
    "\n",
    "tree_reg.fit(X_train, y_train)"
   ]
  },
  {
   "cell_type": "code",
   "execution_count": 23,
   "metadata": {},
   "outputs": [
    {
     "data": {
      "text/plain": [
       "{'min_samples_split': 40,\n",
       " 'min_samples_leaf': 2,\n",
       " 'max_features': 'auto',\n",
       " 'max_depth': 40}"
      ]
     },
     "execution_count": 23,
     "metadata": {},
     "output_type": "execute_result"
    }
   ],
   "source": [
    "# Check the best parameters found by RandomizedSearchCV\n",
    "tree_reg.best_params_"
   ]
  },
  {
   "cell_type": "code",
   "execution_count": 24,
   "metadata": {},
   "outputs": [
    {
     "name": "stdout",
     "output_type": "stream",
     "text": [
      "R^2 Validation: 0.864266482927625\n"
     ]
    }
   ],
   "source": [
    "# Check the cross-validation evaluation metric of the best estimator\n",
    "print(f'R^2 Validation: {tree_reg.best_score_}')"
   ]
  },
  {
   "cell_type": "code",
   "execution_count": 25,
   "metadata": {},
   "outputs": [
    {
     "data": {
      "text/plain": [
       "[('Floor area', 0.6650461951919517),\n",
       " ('Construction year', 0.1020058438278795),\n",
       " ('Floor', 0.09984360254893668),\n",
       " ('Gangnam', 0.02888171812885576),\n",
       " ('Seocho', 0.018332026175877324),\n",
       " ('Songpa', 0.013463453343552612),\n",
       " ('Yangcheon', 0.007425564646474106),\n",
       " ('Seongdong', 0.005801049910680854),\n",
       " ('Mapo', 0.005789598752354849),\n",
       " ('Nowon', 0.004648921191926247),\n",
       " ('Dongjak', 0.004534086149273026),\n",
       " ('Yongsan', 0.004324392278981086),\n",
       " ('Gwangjin', 0.0040246702003537286),\n",
       " ('Eunpyeong', 0.004009170213860521),\n",
       " ('Gangdong', 0.0036441207303310793),\n",
       " ('Jungnang', 0.0034247572642771944),\n",
       " ('Dobong', 0.0031692141301261564),\n",
       " ('Gangseo', 0.003082341826339847),\n",
       " ('Guro', 0.002921179620343061),\n",
       " ('Yeongdeungpo', 0.002835809274157021),\n",
       " ('Geumcheon', 0.002264854073746755),\n",
       " ('Jung', 0.0022433047880946366),\n",
       " ('Jongno', 0.0018078907156071375),\n",
       " ('Dongdaemun', 0.0015984022905104593),\n",
       " ('Gangbuk', 0.0014105275762108546),\n",
       " ('Seodaemun', 0.001262852674995962),\n",
       " ('Seongbuk', 0.001162977797340593),\n",
       " ('Gwanak', 0.0010414746769613996)]"
      ]
     },
     "execution_count": 25,
     "metadata": {},
     "output_type": "execute_result"
    }
   ],
   "source": [
    "# Check the features which are considered as most important in making predictions\n",
    "sorted(dict(zip(X_train.columns, tree_reg.best_estimator_.feature_importances_)).items(), key=lambda x: x[1], reverse=True)"
   ]
  },
  {
   "cell_type": "code",
   "execution_count": 77,
   "metadata": {},
   "outputs": [],
   "source": [
    "# Compute predictions from the test set\n",
    "y_pred = tree_reg.predict(X_test)"
   ]
  },
  {
   "cell_type": "code",
   "execution_count": 78,
   "metadata": {},
   "outputs": [
    {
     "name": "stdout",
     "output_type": "stream",
     "text": [
      "R^2 Test: 0.8661193223617261\n"
     ]
    }
   ],
   "source": [
    "# Coefficient of determination (R^2) on the test set\n",
    "print(f'R^2 Test: {tree_reg.score(X_test, y_test)}')"
   ]
  },
  {
   "cell_type": "code",
   "execution_count": 79,
   "metadata": {},
   "outputs": [
    {
     "name": "stdout",
     "output_type": "stream",
     "text": [
      "RMSE Test: 5805.761179442329\n"
     ]
    }
   ],
   "source": [
    "print(f'RMSE Test: {np.sqrt(mean_squared_error(y_test, y_pred))}')"
   ]
  },
  {
   "cell_type": "code",
   "execution_count": 28,
   "metadata": {},
   "outputs": [
    {
     "data": {
      "image/png": "[encoded data removed]",
      "text/plain": [
       "<Figure size 432x288 with 1 Axes>"
      ]
     },
     "metadata": {
      "needs_background": "light"
     },
     "output_type": "display_data"
    }
   ],
   "source": [
    "# Visualize the predictions (in blue) against the actual values (in red)\n",
    "ax1 = sns.distplot(y_test, hist=False, color='r', label='actual')\n",
    "sns_plot = sns.distplot(y_pred, hist=False, color='b',label='prediction', ax=ax1)\n",
    "\n",
    "# Save the figure to a file\n",
    "sns_plot.get_figure().savefig(\"tree_reg.png\")"
   ]
  },
  {
   "cell_type": "code",
   "execution_count": 29,
   "metadata": {},
   "outputs": [
    {
     "data": {
      "text/plain": [
       "['tree_reg.pkl']"
      ]
     },
     "execution_count": 29,
     "metadata": {},
     "output_type": "execute_result"
    }
   ],
   "source": [
    "# Save the model to disk\n",
    "dump(tree_reg.best_estimator_, 'tree_reg.pkl')"
   ]
  },
  {
   "cell_type": "markdown",
   "metadata": {},
   "source": [
    "### 4. Random forest"
   ]
  },
  {
   "cell_type": "code",
   "execution_count": 30,
   "metadata": {},
   "outputs": [],
   "source": [
    "# Hyperparameter values to feed to the RandomizedSearchCV\n",
    "param_grid = {'max_features': ['auto', 'sqrt'], # Number of features to consider at every split\n",
    "               'max_depth': np.arange(5, 41, 5), # Maximum number of levels in tree\n",
    "               'min_samples_split': [5, 10, 20, 40], # Minimum number of samples required to split a node\n",
    "               'min_samples_leaf': [2, 6, 12, 24], # Minimum number of samples required at each leaf node\n",
    "               }"
   ]
  },
  {
   "cell_type": "code",
   "execution_count": 31,
   "metadata": {},
   "outputs": [
    {
     "name": "stdout",
     "output_type": "stream",
     "text": [
      "Fitting 5 folds for each of 100 candidates, totalling 500 fits\n"
     ]
    },
    {
     "name": "stderr",
     "output_type": "stream",
     "text": [
      "[Parallel(n_jobs=-1)]: Using backend LokyBackend with 8 concurrent workers.\n",
      "[Parallel(n_jobs=-1)]: Done  25 tasks      | elapsed: 16.2min\n",
      "[Parallel(n_jobs=-1)]: Done 146 tasks      | elapsed: 61.6min\n",
      "[Parallel(n_jobs=-1)]: Done 349 tasks      | elapsed: 182.5min\n",
      "[Parallel(n_jobs=-1)]: Done 500 out of 500 | elapsed: 252.7min finished\n"
     ]
    },
    {
     "data": {
      "text/plain": [
       "RandomizedSearchCV(cv=None, error_score=nan,\n",
       "                   estimator=RandomForestRegressor(bootstrap=True,\n",
       "                                                   ccp_alpha=0.0,\n",
       "                                                   criterion='mse',\n",
       "                                                   max_depth=None,\n",
       "                                                   max_features='auto',\n",
       "                                                   max_leaf_nodes=None,\n",
       "                                                   max_samples=None,\n",
       "                                                   min_impurity_decrease=0.0,\n",
       "                                                   min_impurity_split=None,\n",
       "                                                   min_samples_leaf=1,\n",
       "                                                   min_samples_split=2,\n",
       "                                                   min_weight_fraction_leaf=0.0,\n",
       "                                                   n_estimators=100,\n",
       "                                                   n_jobs=None, oob_score=False,\n",
       "                                                   random_state=None, verbose=0,\n",
       "                                                   warm_start=False),\n",
       "                   iid='deprecated', n_iter=100, n_jobs=-1,\n",
       "                   param_distributions={'max_depth': array([ 5, 10, 15, 20, 25, 30, 35, 40]),\n",
       "                                        'max_features': ['auto', 'sqrt'],\n",
       "                                        'min_samples_leaf': [2, 6, 12, 24],\n",
       "                                        'min_samples_split': [5, 10, 20, 40]},\n",
       "                   pre_dispatch='2*n_jobs', random_state=None, refit=True,\n",
       "                   return_train_score=False, scoring=None, verbose=2)"
      ]
     },
     "execution_count": 31,
     "metadata": {},
     "output_type": "execute_result"
    }
   ],
   "source": [
    "from sklearn.ensemble import RandomForestRegressor\n",
    "\n",
    "# Instantiate a RandomizedSearchCV on a RandomForestRegressor model with 100 iterations\n",
    "rfor_reg = RandomizedSearchCV(RandomForestRegressor(), param_distributions = param_grid, n_iter = 100, verbose = 2, n_jobs = -1)\n",
    "\n",
    "rfor_reg.fit(X_train, y_train)"
   ]
  },
  {
   "cell_type": "code",
   "execution_count": 32,
   "metadata": {},
   "outputs": [
    {
     "data": {
      "text/plain": [
       "{'min_samples_split': 5,\n",
       " 'min_samples_leaf': 2,\n",
       " 'max_features': 'sqrt',\n",
       " 'max_depth': 35}"
      ]
     },
     "execution_count": 32,
     "metadata": {},
     "output_type": "execute_result"
    }
   ],
   "source": [
    "# Check the best parameters found by RandomizedSearchCV\n",
    "rfor_reg.best_params_"
   ]
  },
  {
   "cell_type": "code",
   "execution_count": 33,
   "metadata": {},
   "outputs": [
    {
     "name": "stdout",
     "output_type": "stream",
     "text": [
      "R^2 Validation: 0.8781461553411237\n"
     ]
    }
   ],
   "source": [
    "# Check the cross-validation evaluation metric of the best estimator\n",
    "print(f'R^2 Validation: {rfor_reg.best_score_}')"
   ]
  },
  {
   "cell_type": "code",
   "execution_count": 34,
   "metadata": {},
   "outputs": [
    {
     "data": {
      "text/plain": [
       "[('Floor area', 0.5355792921620066),\n",
       " ('Floor', 0.19361661010178893),\n",
       " ('Construction year', 0.12539123364405722),\n",
       " ('Gangnam', 0.02845832530359601),\n",
       " ('Seocho', 0.018817437372265773),\n",
       " ('Songpa', 0.01287372002727185),\n",
       " ('Seongdong', 0.007682300699672825),\n",
       " ('Nowon', 0.006915775123519896),\n",
       " ('Yangcheon', 0.0069051249452386845),\n",
       " ('Jungnang', 0.006763018706210629),\n",
       " ('Eunpyeong', 0.005845075582646099),\n",
       " ('Dobong', 0.005359750985982126),\n",
       " ('Gangseo', 0.00455711301692197),\n",
       " ('Mapo', 0.004199808700681056),\n",
       " ('Guro', 0.004188334689441976),\n",
       " ('Dongjak', 0.003795073016040011),\n",
       " ('Geumcheon', 0.0037877413116912955),\n",
       " ('Gangbuk', 0.0036872931826653957),\n",
       " ('Gwanak', 0.0033917054005387407),\n",
       " ('Gwangjin', 0.003133597599901247),\n",
       " ('Yongsan', 0.002860946048921904),\n",
       " ('Seongbuk', 0.0022549441330184682),\n",
       " ('Gangdong', 0.002164083607682661),\n",
       " ('Yeongdeungpo', 0.0018411682695515614),\n",
       " ('Dongdaemun', 0.0018089617791168181),\n",
       " ('Jung', 0.0014472789245977835),\n",
       " ('Seodaemun', 0.0013986573253226228),\n",
       " ('Jongno', 0.0012756283396497968)]"
      ]
     },
     "execution_count": 34,
     "metadata": {},
     "output_type": "execute_result"
    }
   ],
   "source": [
    "# Check the features which are considered as most important in making predictions\n",
    "sorted(dict(zip(X_train.columns, rfor_reg.best_estimator_.feature_importances_)).items(), key=lambda x: x[1], reverse=True)"
   ]
  },
  {
   "cell_type": "code",
   "execution_count": 80,
   "metadata": {},
   "outputs": [],
   "source": [
    "# Compute predictions from the test set\n",
    "y_pred = rfor_reg.predict(X_test)"
   ]
  },
  {
   "cell_type": "code",
   "execution_count": 81,
   "metadata": {},
   "outputs": [
    {
     "name": "stdout",
     "output_type": "stream",
     "text": [
      "R^2 Test: 0.8783884076840002\n"
     ]
    }
   ],
   "source": [
    "# Coefficient of determination (R^2) on the test set\n",
    "print(f'R^2 Test: {rfor_reg.score(X_test, y_test)}')"
   ]
  },
  {
   "cell_type": "code",
   "execution_count": 82,
   "metadata": {},
   "outputs": [
    {
     "name": "stdout",
     "output_type": "stream",
     "text": [
      "RMSE Test: 5533.344422090588\n"
     ]
    }
   ],
   "source": [
    "print(f'RMSE Test: {np.sqrt(mean_squared_error(y_test, y_pred))}')"
   ]
  },
  {
   "cell_type": "code",
   "execution_count": 37,
   "metadata": {},
   "outputs": [
    {
     "data": {
      "image/png": "[encoded data removed]",
      "text/plain": [
       "<Figure size 432x288 with 1 Axes>"
      ]
     },
     "metadata": {
      "needs_background": "light"
     },
     "output_type": "display_data"
    }
   ],
   "source": [
    "# Visualize the predictions (in blue) against the actual values (in red)\n",
    "ax1 = sns.distplot(y_test, hist=False, color='r', label='actual')\n",
    "sns_plot = sns.distplot(y_pred, hist=False, color='b',label='prediction', ax=ax1)\n",
    "\n",
    "# Save the figure to a file\n",
    "sns_plot.get_figure().savefig(\"rfor_reg.png\")"
   ]
  },
  {
   "cell_type": "code",
   "execution_count": 38,
   "metadata": {},
   "outputs": [
    {
     "data": {
      "text/plain": [
       "['rfor_reg.pkl']"
      ]
     },
     "execution_count": 38,
     "metadata": {},
     "output_type": "execute_result"
    }
   ],
   "source": [
    "# Save the model to disk\n",
    "dump(rfor_reg.best_estimator_, 'rfor_reg.pkl')"
   ]
  },
  {
   "cell_type": "markdown",
   "metadata": {},
   "source": [
    "### 5. AdaBoost"
   ]
  },
  {
   "cell_type": "code",
   "execution_count": 39,
   "metadata": {},
   "outputs": [],
   "source": [
    "# Hyperparameter values to feed to the RandomizedSearchCV\n",
    "param_grid = {\"learning_rate\"   : [0.01, 0.1, 0.3],\n",
    "              \"loss\"            : ['linear', 'square', 'exponential']\n",
    "             }"
   ]
  },
  {
   "cell_type": "code",
   "execution_count": 40,
   "metadata": {},
   "outputs": [
    {
     "name": "stderr",
     "output_type": "stream",
     "text": [
      "C:\\Users\\Thierry\\Anaconda3\\lib\\site-packages\\sklearn\\model_selection\\_search.py:281: UserWarning: The total space of parameters 9 is smaller than n_iter=100. Running 9 iterations. For exhaustive searches, use GridSearchCV.\n",
      "  % (grid_size, self.n_iter, grid_size), UserWarning)\n",
      "[Parallel(n_jobs=-1)]: Using backend LokyBackend with 8 concurrent workers.\n"
     ]
    },
    {
     "name": "stdout",
     "output_type": "stream",
     "text": [
      "Fitting 5 folds for each of 9 candidates, totalling 45 fits\n"
     ]
    },
    {
     "name": "stderr",
     "output_type": "stream",
     "text": [
      "[Parallel(n_jobs=-1)]: Done  25 tasks      | elapsed: 40.6min\n",
      "[Parallel(n_jobs=-1)]: Done  45 out of  45 | elapsed: 57.2min finished\n"
     ]
    },
    {
     "data": {
      "text/plain": [
       "RandomizedSearchCV(cv=None, error_score=nan,\n",
       "                   estimator=AdaBoostRegressor(base_estimator=DecisionTreeRegressor(ccp_alpha=0.0,\n",
       "                                                                                    criterion='mse',\n",
       "                                                                                    max_depth=35,\n",
       "                                                                                    max_features=None,\n",
       "                                                                                    max_leaf_nodes=None,\n",
       "                                                                                    min_impurity_decrease=0.0,\n",
       "                                                                                    min_impurity_split=None,\n",
       "                                                                                    min_samples_leaf=6,\n",
       "                                                                                    min_samples_split=20,\n",
       "                                                                                    min_weight_fraction_leaf=0.0,\n",
       "                                                                                    presort='deprecated',\n",
       "                                                                                    random_state=None,\n",
       "                                                                                    splitter='best'),\n",
       "                                               learning_rate=1.0, loss='linear',\n",
       "                                               n_estimators=100,\n",
       "                                               random_state=None),\n",
       "                   iid='deprecated', n_iter=100, n_jobs=-1,\n",
       "                   param_distributions={'learning_rate': [0.01, 0.1, 0.3],\n",
       "                                        'loss': ['linear', 'square',\n",
       "                                                 'exponential']},\n",
       "                   pre_dispatch='2*n_jobs', random_state=None, refit=True,\n",
       "                   return_train_score=False, scoring=None, verbose=2)"
      ]
     },
     "execution_count": 40,
     "metadata": {},
     "output_type": "execute_result"
    }
   ],
   "source": [
    "from sklearn.ensemble import AdaBoostRegressor\n",
    "from sklearn.tree import DecisionTreeRegressor\n",
    "\n",
    "# Instantiate a RandomizedSearchCV on an AdaBoostRegressor model with 100 iterations\n",
    "ada_reg = RandomizedSearchCV(AdaBoostRegressor(DecisionTreeRegressor(min_samples_split = 40, min_samples_leaf = 2, max_depth = 40), n_estimators=100), param_distributions = param_grid, n_iter = 100, verbose = 2, n_jobs = -1)\n",
    "\n",
    "ada_reg.fit(X_train, y_train)"
   ]
  },
  {
   "cell_type": "code",
   "execution_count": 41,
   "metadata": {},
   "outputs": [
    {
     "data": {
      "text/plain": [
       "{'loss': 'exponential', 'learning_rate': 0.01}"
      ]
     },
     "execution_count": 41,
     "metadata": {},
     "output_type": "execute_result"
    }
   ],
   "source": [
    "# Check the best parameters found by RandomizedSearchCV\n",
    "ada_reg.best_params_"
   ]
  },
  {
   "cell_type": "code",
   "execution_count": 42,
   "metadata": {},
   "outputs": [
    {
     "name": "stdout",
     "output_type": "stream",
     "text": [
      "R^2 Validation: 0.8755813429463173\n"
     ]
    }
   ],
   "source": [
    "# Check the cross-validation evaluation metric of the best estimator\n",
    "print(f'R^2 Validation: {ada_reg.best_score_}')"
   ]
  },
  {
   "cell_type": "code",
   "execution_count": 43,
   "metadata": {},
   "outputs": [
    {
     "data": {
      "text/plain": [
       "[('Floor area', 0.6552132766437173),\n",
       " ('Construction year', 0.10777310455508297),\n",
       " ('Floor', 0.10539607055537525),\n",
       " ('Gangnam', 0.028410254853605564),\n",
       " ('Seocho', 0.018138914198849384),\n",
       " ('Songpa', 0.013349857499800834),\n",
       " ('Yangcheon', 0.006702875128115294),\n",
       " ('Mapo', 0.005962604159016569),\n",
       " ('Seongdong', 0.005959497350177519),\n",
       " ('Nowon', 0.004617693619477252),\n",
       " ('Dongjak', 0.004616283705364693),\n",
       " ('Yongsan', 0.004145601197611126),\n",
       " ('Gwangjin', 0.004089156586757056),\n",
       " ('Eunpyeong', 0.0039858953583672705),\n",
       " ('Gangdong', 0.0037820100321949456),\n",
       " ('Jungnang', 0.003428234313131193),\n",
       " ('Gangseo', 0.003168409491314708),\n",
       " ('Dobong', 0.0029967030372235913),\n",
       " ('Yeongdeungpo', 0.002967169770677425),\n",
       " ('Guro', 0.0025763024475901767),\n",
       " ('Jung', 0.002111196510484329),\n",
       " ('Geumcheon', 0.0019229165673738768),\n",
       " ('Jongno', 0.0017390559507449745),\n",
       " ('Dongdaemun', 0.0017088551561595276),\n",
       " ('Gangbuk', 0.0013778711713044827),\n",
       " ('Seodaemun', 0.0013692141211662666),\n",
       " ('Seongbuk', 0.0013507159280677556),\n",
       " ('Gwanak', 0.0011402600912484315)]"
      ]
     },
     "execution_count": 43,
     "metadata": {},
     "output_type": "execute_result"
    }
   ],
   "source": [
    "# Check the features which are considered as most important in making predictions\n",
    "sorted(dict(zip(X_train.columns, ada_reg.best_estimator_.feature_importances_)).items(), key=lambda x: x[1], reverse=True)"
   ]
  },
  {
   "cell_type": "code",
   "execution_count": 83,
   "metadata": {},
   "outputs": [],
   "source": [
    "# Compute predictions from the test set\n",
    "y_pred = ada_reg.predict(X_test)"
   ]
  },
  {
   "cell_type": "code",
   "execution_count": 84,
   "metadata": {},
   "outputs": [
    {
     "name": "stdout",
     "output_type": "stream",
     "text": [
      "R^2 Test: 0.8763769544514833\n"
     ]
    }
   ],
   "source": [
    "# Coefficient of determination (R^2) on the test set\n",
    "print(f'R^2 Test: {ada_reg.score(X_test, y_test)}')"
   ]
  },
  {
   "cell_type": "code",
   "execution_count": 85,
   "metadata": {},
   "outputs": [
    {
     "name": "stdout",
     "output_type": "stream",
     "text": [
      "RMSE Test: 5578.917452079584\n"
     ]
    }
   ],
   "source": [
    "print(f'RMSE Test: {np.sqrt(mean_squared_error(y_test, y_pred))}')"
   ]
  },
  {
   "cell_type": "code",
   "execution_count": 46,
   "metadata": {},
   "outputs": [
    {
     "data": {
      "image/png": "[encoded data removed]",
      "text/plain": [
       "<Figure size 432x288 with 1 Axes>"
      ]
     },
     "metadata": {
      "needs_background": "light"
     },
     "output_type": "display_data"
    }
   ],
   "source": [
    "# Visualize the predictions (in blue) against the actual values (in red)\n",
    "ax1 = sns.distplot(y_test, hist=False, color='r', label='actual')\n",
    "sns_plot = sns.distplot(y_pred, hist=False, color='b',label='prediction', ax=ax1)\n",
    "\n",
    "# Save the figure to a file\n",
    "sns_plot.get_figure().savefig(\"ada_reg.png\")"
   ]
  },
  {
   "cell_type": "code",
   "execution_count": 47,
   "metadata": {},
   "outputs": [
    {
     "data": {
      "text/plain": [
       "['ada_reg.pkl']"
      ]
     },
     "execution_count": 47,
     "metadata": {},
     "output_type": "execute_result"
    }
   ],
   "source": [
    "# Save the model to disk\n",
    "dump(ada_reg.best_estimator_, 'ada_reg.pkl')"
   ]
  },
  {
   "cell_type": "markdown",
   "metadata": {},
   "source": [
    "### 6. Gradient Boosting"
   ]
  },
  {
   "cell_type": "code",
   "execution_count": 48,
   "metadata": {},
   "outputs": [],
   "source": [
    "# Hyperparameter values to feed to the RandomizedSearchCV\n",
    "param_grid = {\"learning_rate\"   : [0.01, 0.1, 0.3],\n",
    "             \"subsample\"        : [0.5, 1.0],\n",
    "             'max_depth'        : np.arange(5, 41, 5),\n",
    "             \"max_features\"     : ['auto', 'sqrt'],\n",
    "             \"min_samples_split\": [5, 10, 20, 40],\n",
    "             \"min_samples_leaf\" : [2, 6, 12, 24]\n",
    "             }"
   ]
  },
  {
   "cell_type": "code",
   "execution_count": 49,
   "metadata": {},
   "outputs": [
    {
     "name": "stdout",
     "output_type": "stream",
     "text": [
      "Fitting 5 folds for each of 100 candidates, totalling 500 fits\n"
     ]
    },
    {
     "name": "stderr",
     "output_type": "stream",
     "text": [
      "[Parallel(n_jobs=-1)]: Using backend LokyBackend with 8 concurrent workers.\n",
      "[Parallel(n_jobs=-1)]: Done  25 tasks      | elapsed: 13.3min\n",
      "[Parallel(n_jobs=-1)]: Done 146 tasks      | elapsed: 92.4min\n",
      "[Parallel(n_jobs=-1)]: Done 349 tasks      | elapsed: 233.2min\n",
      "[Parallel(n_jobs=-1)]: Done 500 out of 500 | elapsed: 342.8min finished\n"
     ]
    },
    {
     "data": {
      "text/plain": [
       "RandomizedSearchCV(cv=None, error_score=nan,\n",
       "                   estimator=GradientBoostingRegressor(alpha=0.9, ccp_alpha=0.0,\n",
       "                                                       criterion='friedman_mse',\n",
       "                                                       init=None,\n",
       "                                                       learning_rate=0.1,\n",
       "                                                       loss='ls', max_depth=3,\n",
       "                                                       max_features=None,\n",
       "                                                       max_leaf_nodes=None,\n",
       "                                                       min_impurity_decrease=0.0,\n",
       "                                                       min_impurity_split=None,\n",
       "                                                       min_samples_leaf=1,\n",
       "                                                       min_samples_split=2,\n",
       "                                                       min_weight_fraction_leaf=0.0,\n",
       "                                                       n_estimators=100...\n",
       "                   iid='deprecated', n_iter=100, n_jobs=-1,\n",
       "                   param_distributions={'learning_rate': [0.01, 0.1, 0.3],\n",
       "                                        'max_depth': array([ 5, 10, 15, 20, 25, 30, 35, 40]),\n",
       "                                        'max_features': ['auto', 'sqrt'],\n",
       "                                        'min_samples_leaf': [2, 6, 12, 24],\n",
       "                                        'min_samples_split': [5, 10, 20, 40],\n",
       "                                        'subsample': [0.5, 1.0]},\n",
       "                   pre_dispatch='2*n_jobs', random_state=None, refit=True,\n",
       "                   return_train_score=False, scoring=None, verbose=2)"
      ]
     },
     "execution_count": 49,
     "metadata": {},
     "output_type": "execute_result"
    }
   ],
   "source": [
    "from sklearn.ensemble import GradientBoostingRegressor\n",
    "\n",
    "# Instantiate a RandomizedSearchCV on a GradientBoostingRegressor model with 100 iterations\n",
    "grad_reg = RandomizedSearchCV(GradientBoostingRegressor(), param_distributions = param_grid, n_iter = 100, verbose = 2, n_jobs = -1)\n",
    "\n",
    "grad_reg.fit(X_train, y_train)"
   ]
  },
  {
   "cell_type": "code",
   "execution_count": 50,
   "metadata": {},
   "outputs": [
    {
     "data": {
      "text/plain": [
       "{'subsample': 1.0,\n",
       " 'min_samples_split': 10,\n",
       " 'min_samples_leaf': 6,\n",
       " 'max_features': 'sqrt',\n",
       " 'max_depth': 20,\n",
       " 'learning_rate': 0.1}"
      ]
     },
     "execution_count": 50,
     "metadata": {},
     "output_type": "execute_result"
    }
   ],
   "source": [
    "# Check the best parameters found by RandomizedSearchCV\n",
    "grad_reg.best_params_"
   ]
  },
  {
   "cell_type": "code",
   "execution_count": 51,
   "metadata": {},
   "outputs": [
    {
     "name": "stdout",
     "output_type": "stream",
     "text": [
      "R^2 Validation: 0.8805040079709251\n"
     ]
    }
   ],
   "source": [
    "# Check the cross-validation evaluation metric of the best estimator\n",
    "print(f'R^2 Validation: {grad_reg.best_score_}')"
   ]
  },
  {
   "cell_type": "code",
   "execution_count": 52,
   "metadata": {},
   "outputs": [
    {
     "data": {
      "text/plain": [
       "[('Floor area', 0.5683094062136843),\n",
       " ('Floor', 0.17311166498649744),\n",
       " ('Construction year', 0.11699036887877863),\n",
       " ('Gangnam', 0.027726585558235012),\n",
       " ('Seocho', 0.018102830812477544),\n",
       " ('Songpa', 0.012631799820373412),\n",
       " ('Seongdong', 0.00786253756251729),\n",
       " ('Yangcheon', 0.007767428215939422),\n",
       " ('Jungnang', 0.0066144038665366615),\n",
       " ('Nowon', 0.0066114436338827395),\n",
       " ('Eunpyeong', 0.0055429426477037105),\n",
       " ('Dobong', 0.005399293276528949),\n",
       " ('Guro', 0.004436377441921078),\n",
       " ('Dongjak', 0.004378958513642797),\n",
       " ('Mapo', 0.004154754065304557),\n",
       " ('Geumcheon', 0.003834849688132888),\n",
       " ('Gangseo', 0.0036283285934358834),\n",
       " ('Gangbuk', 0.00340331903966907),\n",
       " ('Gwangjin', 0.0029614132472950585),\n",
       " ('Yongsan', 0.002650340648898964),\n",
       " ('Gwanak', 0.002420604354997699),\n",
       " ('Seongbuk', 0.0023365164571712083),\n",
       " ('Gangdong', 0.0019439857883769196),\n",
       " ('Dongdaemun', 0.0016268876412279642),\n",
       " ('Yeongdeungpo', 0.001568755007882649),\n",
       " ('Seodaemun', 0.0014848634313329103),\n",
       " ('Jung', 0.001314689352974598),\n",
       " ('Jongno', 0.001184651254580582)]"
      ]
     },
     "execution_count": 52,
     "metadata": {},
     "output_type": "execute_result"
    }
   ],
   "source": [
    "# Check the features which are considered as most important in making predictions\n",
    "sorted(dict(zip(X_train.columns, grad_reg.best_estimator_.feature_importances_)).items(), key=lambda x: x[1], reverse=True)"
   ]
  },
  {
   "cell_type": "code",
   "execution_count": 86,
   "metadata": {},
   "outputs": [],
   "source": [
    "# Compute predictions from the test set\n",
    "y_pred = grad_reg.predict(X_test)"
   ]
  },
  {
   "cell_type": "code",
   "execution_count": 87,
   "metadata": {},
   "outputs": [
    {
     "name": "stdout",
     "output_type": "stream",
     "text": [
      "R^2 Test: 0.8805265069180221\n"
     ]
    }
   ],
   "source": [
    "# Coefficient of determination (R^2) on the test set\n",
    "print(f'R^2 Test: {grad_reg.score(X_test, y_test)}')"
   ]
  },
  {
   "cell_type": "code",
   "execution_count": 88,
   "metadata": {},
   "outputs": [
    {
     "name": "stdout",
     "output_type": "stream",
     "text": [
      "RMSE Test: 5484.486817059782\n"
     ]
    }
   ],
   "source": [
    "print(f'RMSE Test: {np.sqrt(mean_squared_error(y_test, y_pred))}')"
   ]
  },
  {
   "cell_type": "code",
   "execution_count": 55,
   "metadata": {},
   "outputs": [
    {
     "data": {
      "image/png": "[encoded data removed]",
      "text/plain": [
       "<Figure size 432x288 with 1 Axes>"
      ]
     },
     "metadata": {
      "needs_background": "light"
     },
     "output_type": "display_data"
    }
   ],
   "source": [
    "# Visualize the predictions (in blue) against the actual values (in red)\n",
    "ax1 = sns.distplot(y_test, hist=False, color='r', label='actual')\n",
    "sns_plot = sns.distplot(y_pred, hist=False, color='b',label='prediction', ax=ax1)\n",
    "\n",
    "# Save the figure to a file\n",
    "sns_plot.get_figure().savefig(\"grad_reg.png\")"
   ]
  },
  {
   "cell_type": "code",
   "execution_count": 56,
   "metadata": {},
   "outputs": [
    {
     "data": {
      "text/plain": [
       "['grad_reg.pkl']"
      ]
     },
     "execution_count": 56,
     "metadata": {},
     "output_type": "execute_result"
    }
   ],
   "source": [
    "# Save the model to disk\n",
    "dump(grad_reg.best_estimator_, 'grad_reg.pkl')"
   ]
  },
  {
   "cell_type": "markdown",
   "metadata": {},
   "source": [
    "### 7. XGBoost"
   ]
  },
  {
   "cell_type": "code",
   "execution_count": 57,
   "metadata": {},
   "outputs": [],
   "source": [
    "# Hyperparameter values to feed to the RandomizedSearchCV\n",
    "param_grid = {\"learning_rate\"   : [0.01, 0.1, 0.3] ,\n",
    "             'max_depth'        : np.arange(5, 41, 5),\n",
    "             \"min_child_weight\" : [1, 3, 5, 7],\n",
    "             \"gamma\"            : [0.0, 0.1, 0.2, 0.3, 0.4],\n",
    "             \"colsample_bytree\" : [0.3, 0.4, 0.5, 0.7]\n",
    "             }"
   ]
  },
  {
   "cell_type": "code",
   "execution_count": 58,
   "metadata": {},
   "outputs": [
    {
     "name": "stdout",
     "output_type": "stream",
     "text": [
      "Fitting 5 folds for each of 100 candidates, totalling 500 fits\n"
     ]
    },
    {
     "name": "stderr",
     "output_type": "stream",
     "text": [
      "[Parallel(n_jobs=-1)]: Using backend LokyBackend with 8 concurrent workers.\n",
      "[Parallel(n_jobs=-1)]: Done  25 tasks      | elapsed: 12.3min\n",
      "[Parallel(n_jobs=-1)]: Done 146 tasks      | elapsed: 62.6min\n",
      "[Parallel(n_jobs=-1)]: Done 349 tasks      | elapsed: 160.2min\n",
      "[Parallel(n_jobs=-1)]: Done 500 out of 500 | elapsed: 238.7min finished\n",
      "C:\\Users\\Thierry\\Anaconda3\\lib\\site-packages\\xgboost\\core.py:587: FutureWarning: Series.base is deprecated and will be removed in a future version\n",
      "  if getattr(data, 'base', None) is not None and \\\n"
     ]
    },
    {
     "name": "stdout",
     "output_type": "stream",
     "text": [
      "[16:05:02] WARNING: C:/Jenkins/workspace/xgboost-win64_release_0.90/src/objective/regression_obj.cu:152: reg:linear is now deprecated in favor of reg:squarederror.\n"
     ]
    },
    {
     "data": {
      "text/plain": [
       "RandomizedSearchCV(cv=None, error_score=nan,\n",
       "                   estimator=XGBRegressor(base_score=0.5, booster='gbtree',\n",
       "                                          colsample_bylevel=1,\n",
       "                                          colsample_bynode=1,\n",
       "                                          colsample_bytree=1, gamma=0,\n",
       "                                          importance_type='gain',\n",
       "                                          learning_rate=0.1, max_delta_step=0,\n",
       "                                          max_depth=3, min_child_weight=1,\n",
       "                                          missing=None, n_estimators=100,\n",
       "                                          n_jobs=1, nthread=None,\n",
       "                                          objective='reg:linear',\n",
       "                                          random_state=0, reg_alp...\n",
       "                                          seed=None, silent=None, subsample=1,\n",
       "                                          verbosity=1),\n",
       "                   iid='deprecated', n_iter=100, n_jobs=-1,\n",
       "                   param_distributions={'colsample_bytree': [0.3, 0.4, 0.5,\n",
       "                                                             0.7],\n",
       "                                        'gamma': [0.0, 0.1, 0.2, 0.3, 0.4],\n",
       "                                        'learning_rate': [0.01, 0.1, 0.3],\n",
       "                                        'max_depth': array([ 5, 10, 15, 20, 25, 30, 35, 40]),\n",
       "                                        'min_child_weight': [1, 3, 5, 7]},\n",
       "                   pre_dispatch='2*n_jobs', random_state=None, refit=True,\n",
       "                   return_train_score=False, scoring=None, verbose=2)"
      ]
     },
     "execution_count": 58,
     "metadata": {},
     "output_type": "execute_result"
    }
   ],
   "source": [
    "from xgboost import XGBRegressor\n",
    "\n",
    "# Instantiate a RandomizedSearchCV on an XGBRegressor model with 100 iterations\n",
    "xgb_reg = RandomizedSearchCV(XGBRegressor(), param_distributions = param_grid, n_iter = 100, verbose = 2, n_jobs = -1)\n",
    "\n",
    "xgb_reg.fit(X_train, y_train)"
   ]
  },
  {
   "cell_type": "code",
   "execution_count": 59,
   "metadata": {},
   "outputs": [
    {
     "data": {
      "text/plain": [
       "{'min_child_weight': 3,\n",
       " 'max_depth': 20,\n",
       " 'learning_rate': 0.1,\n",
       " 'gamma': 0.1,\n",
       " 'colsample_bytree': 0.7}"
      ]
     },
     "execution_count": 59,
     "metadata": {},
     "output_type": "execute_result"
    }
   ],
   "source": [
    "# Best parameters\n",
    "xgb_reg.best_params_"
   ]
  },
  {
   "cell_type": "code",
   "execution_count": 60,
   "metadata": {},
   "outputs": [
    {
     "name": "stdout",
     "output_type": "stream",
     "text": [
      "R^2 Validation: 0.8833101157662474\n"
     ]
    }
   ],
   "source": [
    "# Check the cross-validation evaluation metric of the best estimator\n",
    "print(f'R^2 Validation: {xgb_reg.best_score_}')"
   ]
  },
  {
   "cell_type": "code",
   "execution_count": 61,
   "metadata": {},
   "outputs": [
    {
     "data": {
      "text/plain": [
       "[('Floor area', 285374),\n",
       " ('Construction year', 220228),\n",
       " ('Floor', 191886),\n",
       " ('Dongdaemun', 5924),\n",
       " ('Mapo', 5803),\n",
       " ('Gangdong', 5542),\n",
       " ('Gwanak', 5536),\n",
       " ('Eunpyeong', 5468),\n",
       " ('Songpa', 5430),\n",
       " ('Gangseo', 5391),\n",
       " ('Seongbuk', 5270),\n",
       " ('Guro', 5255),\n",
       " ('Yeongdeungpo', 5075),\n",
       " ('Yongsan', 4929),\n",
       " ('Dongjak', 4856),\n",
       " ('Gwangjin', 4853),\n",
       " ('Seodaemun', 4821),\n",
       " ('Yangcheon', 4384),\n",
       " ('Nowon', 4215),\n",
       " ('Seocho', 4100),\n",
       " ('Jongno', 3711),\n",
       " ('Geumcheon', 3627),\n",
       " ('Dobong', 3527),\n",
       " ('Gangbuk', 3375),\n",
       " ('Jung', 3095),\n",
       " ('Gangnam', 2927),\n",
       " ('Jungnang', 2808),\n",
       " ('Seongdong', 2775)]"
      ]
     },
     "execution_count": 61,
     "metadata": {},
     "output_type": "execute_result"
    }
   ],
   "source": [
    "# Check the number of times a feature was used to split the data across all trees\n",
    "sorted(xgb_reg.best_estimator_.get_booster().get_score(importance_type='weight').items(), key=lambda x: x[1], reverse=True)"
   ]
  },
  {
   "cell_type": "code",
   "execution_count": 62,
   "metadata": {},
   "outputs": [
    {
     "data": {
      "text/plain": [
       "<matplotlib.axes._subplots.AxesSubplot at 0x25700072c48>"
      ]
     },
     "execution_count": 62,
     "metadata": {},
     "output_type": "execute_result"
    },
    {
     "data": {
      "image/png": "[encoded data removed]",
      "text/plain": [
       "<Figure size 576x504 with 1 Axes>"
      ]
     },
     "metadata": {
      "needs_background": "light"
     },
     "output_type": "display_data"
    }
   ],
   "source": [
    "# Plot the same data on a graph\n",
    "from xgboost import plot_importance\n",
    "from matplotlib import pyplot as plt\n",
    "\n",
    "fig, ax = plt.subplots(figsize=(8, 7))\n",
    "plot_importance(xgb_reg.best_estimator_, ax=ax)"
   ]
  },
  {
   "cell_type": "code",
   "execution_count": 89,
   "metadata": {},
   "outputs": [],
   "source": [
    "# Compute predictions from the test set\n",
    "y_pred = xgb_reg.predict(X_test)"
   ]
  },
  {
   "cell_type": "code",
   "execution_count": 90,
   "metadata": {},
   "outputs": [
    {
     "name": "stdout",
     "output_type": "stream",
     "text": [
      "R^2 Test: 0.8827315629642336\n"
     ]
    }
   ],
   "source": [
    "# Coefficient of determination (R^2) on the test set\n",
    "print(f'R^2 Test: {xgb_reg.score(X_test, y_test)}')"
   ]
  },
  {
   "cell_type": "code",
   "execution_count": 91,
   "metadata": {},
   "outputs": [
    {
     "name": "stdout",
     "output_type": "stream",
     "text": [
      "RMSE Test: 5433.639040332104\n"
     ]
    }
   ],
   "source": [
    "print(f'RMSE Test: {np.sqrt(mean_squared_error(y_test, y_pred))}')"
   ]
  },
  {
   "cell_type": "code",
   "execution_count": 65,
   "metadata": {},
   "outputs": [
    {
     "data": {
      "image/png": "[encoded data removed]",
      "text/plain": [
       "<Figure size 432x288 with 1 Axes>"
      ]
     },
     "metadata": {
      "needs_background": "light"
     },
     "output_type": "display_data"
    }
   ],
   "source": [
    "# Visualize the predictions (in blue) against the actual values (in red)\n",
    "ax1 = sns.distplot(y_test, hist=False, color='r', label='actual')\n",
    "sns_plot = sns.distplot(y_pred, hist=False, color='b',label='prediction', ax=ax1)\n",
    "\n",
    "# Save the figure to a file\n",
    "sns_plot.get_figure().savefig(\"xgb_reg.png\")"
   ]
  },
  {
   "cell_type": "code",
   "execution_count": 66,
   "metadata": {},
   "outputs": [
    {
     "data": {
      "text/plain": [
       "['xgb_reg.pkl']"
      ]
     },
     "execution_count": 66,
     "metadata": {},
     "output_type": "execute_result"
    }
   ],
   "source": [
    "# Save the model to disk\n",
    "dump(xgb_reg.best_estimator_, 'xgb_reg.pkl')"
   ]
  },
  {
   "cell_type": "code",
   "execution_count": null,
   "metadata": {},
   "outputs": [],
   "source": []
  }
 ],
 "metadata": {
  "kernelspec": {
   "display_name": "Python 3",
   "language": "python",
   "name": "python3"
  },
  "language_info": {
   "codemirror_mode": {
    "name": "ipython",
    "version": 3
   },
   "file_extension": ".py",
   "mimetype": "text/x-python",
   "name": "python",
   "nbconvert_exporter": "python",
   "pygments_lexer": "ipython3",
   "version": "3.7.5"
  }
 },
 "nbformat": 4,
 "nbformat_minor": 4
}
